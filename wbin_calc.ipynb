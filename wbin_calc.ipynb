{
 "cells": [
  {
   "cell_type": "code",
   "execution_count": 2,
   "id": "c3b7817a",
   "metadata": {},
   "outputs": [
    {
     "name": "stdout",
     "output_type": "stream",
     "text": [
      "wbin вес 1: 326\n",
      "wbin вес 2: 152\n"
     ]
    }
   ],
   "source": [
    "def comb(n,k):\n",
    "    if n<k:\n",
    "        print('ошибка')\n",
    "        return 0\n",
    "    return (factorial(n))/((factorial(k))*factorial((n-k)))\n",
    "\n",
    "def degree2(q):\n",
    "    deg=1 #для параметров 1 1\n",
    "    while 2**deg<q:\n",
    "        deg=deg+1\n",
    "    return deg\n",
    "\n",
    "def wbin(n,k,d,r):\n",
    "    p=1\n",
    "    l=1\n",
    "    Spl=((n-k)**2)*(n+k)+(k/2-p+1+2*comb(k/2,p)*((q-1)**p))*l+((2*p*q*(r-2*p+1)*(2*q-3)*((q-1)**(2*p-2)))/(q**l))*((comb(k/2,p))**2)\n",
    "    wbin=m*Spl*comb(n,r)*((((comb(k/2,p))**2)*comb(n-k-l,r-2*p))**(-1))\n",
    "    wbin=int(wbin)\n",
    "    wbin1=wbin\n",
    "    ans=wbin\n",
    "\n",
    "    for i in range(100):\n",
    "        for j in range(100):\n",
    "            p=0.1*i\n",
    "            l=0.1*j\n",
    "            Spl=((n-k)**2)*(n+k)+(k/2-p+1+2*comb(k/2,p)*((q-1)**p))*l+((2*p*q*(r-2*p+1)*(2*q-3)*((q-1)**(2*p-2)))/(q**l))*((comb(k/2,p))**2)\n",
    "            wbin=m*Spl*comb(n,r)*((((comb(k/2,p))**2)*comb(n-k-l,r-2*p))**(-1))\n",
    "            wbin=int(wbin)\n",
    "            if ans>wbin:\n",
    "                ans=wbin\n",
    "\n",
    "    return ans\n",
    "\n",
    "#q=2**m здесь m это степень поля Fq, тоесть замер идален при учете поля из степени 2-ки, \n",
    "#в ином случае - подгоняется под ближайшую степень 2-ки в рамках замера\n",
    "#парамтеры p,l побираются так, что бы wbin был минимален\n",
    "\n",
    "\n",
    "q=2**10\n",
    "m=degree2(q)\n",
    "n=2**10\n",
    "k=2**9\n",
    "d=n-k #Пока оставил так\n",
    "t=floor((d-1)/2) \n",
    "r=t #r - колво ошибок, здесь под маскировку весом-1\n",
    "r2=floor(t/2) #Здесь под маскировку весом-2\n",
    "\n",
    "\n",
    "print('wbin вес 1:', degree2(wbin(n,k,d,r)))\n",
    "print('wbin вес 2:', degree2(wbin(n,k,d,r2)))"
   ]
  },
  {
   "cell_type": "code",
   "execution_count": null,
   "id": "8e388b34",
   "metadata": {},
   "outputs": [],
   "source": []
  }
 ],
 "metadata": {
  "kernelspec": {
   "display_name": "SageMath 9.5",
   "language": "sage",
   "name": "sagemath"
  },
  "language_info": {
   "codemirror_mode": {
    "name": "ipython",
    "version": 3
   },
   "file_extension": ".py",
   "mimetype": "text/x-python",
   "name": "python",
   "nbconvert_exporter": "python",
   "pygments_lexer": "ipython3",
   "version": "3.10.6"
  }
 },
 "nbformat": 4,
 "nbformat_minor": 5
}
